{
 "cells": [
  {
   "cell_type": "code",
   "execution_count": 71,
   "id": "ac6a1f3e",
   "metadata": {},
   "outputs": [],
   "source": [
    "import pandas as pd\n",
    "import numpy as np\n",
    "import matplotlib.pyplot as plt\n",
    "import seaborn as sbn"
   ]
  },
  {
   "cell_type": "code",
   "execution_count": 72,
   "id": "5f06243a",
   "metadata": {},
   "outputs": [],
   "source": [
    "obj = pd.Series([4,7,-1,3])"
   ]
  },
  {
   "cell_type": "code",
   "execution_count": 73,
   "id": "466c3fab",
   "metadata": {},
   "outputs": [
    {
     "data": {
      "text/plain": [
       "0    4\n",
       "1    7\n",
       "2   -1\n",
       "3    3\n",
       "dtype: int64"
      ]
     },
     "execution_count": 73,
     "metadata": {},
     "output_type": "execute_result"
    }
   ],
   "source": [
    "obj"
   ]
  },
  {
   "cell_type": "code",
   "execution_count": 74,
   "id": "dd2a0183",
   "metadata": {},
   "outputs": [
    {
     "data": {
      "text/plain": [
       "<bound method IndexOpsMixin.value_counts of 0    4\n",
       "1    7\n",
       "2   -1\n",
       "3    3\n",
       "dtype: int64>"
      ]
     },
     "execution_count": 74,
     "metadata": {},
     "output_type": "execute_result"
    }
   ],
   "source": [
    "obj.value_counts"
   ]
  },
  {
   "cell_type": "code",
   "execution_count": 75,
   "id": "585f8ee2",
   "metadata": {},
   "outputs": [
    {
     "data": {
      "text/plain": [
       "array([ 4,  7, -1,  3])"
      ]
     },
     "execution_count": 75,
     "metadata": {},
     "output_type": "execute_result"
    }
   ],
   "source": [
    "obj.values"
   ]
  },
  {
   "cell_type": "code",
   "execution_count": 76,
   "id": "e83b9ff2",
   "metadata": {},
   "outputs": [
    {
     "data": {
      "text/plain": [
       "<bound method Series.sort_values of 0    4\n",
       "1    7\n",
       "2   -1\n",
       "3    3\n",
       "dtype: int64>"
      ]
     },
     "execution_count": 76,
     "metadata": {},
     "output_type": "execute_result"
    }
   ],
   "source": [
    "obj.sort_values"
   ]
  },
  {
   "cell_type": "code",
   "execution_count": 80,
   "id": "e9d39629",
   "metadata": {},
   "outputs": [],
   "source": [
    "obj = pd.Series([44,74,46,64,77,86,94,5,34,72,92,44,45,57,37,5,44,3,23,52,6,42,-17,37])"
   ]
  },
  {
   "cell_type": "code",
   "execution_count": 81,
   "id": "23fe02df",
   "metadata": {},
   "outputs": [
    {
     "data": {
      "text/plain": [
       "0     44\n",
       "1     74\n",
       "2     46\n",
       "3     64\n",
       "4     77\n",
       "5     86\n",
       "6     94\n",
       "7      5\n",
       "8     34\n",
       "9     72\n",
       "10    92\n",
       "11    44\n",
       "12    45\n",
       "13    57\n",
       "14    37\n",
       "15     5\n",
       "16    44\n",
       "17     3\n",
       "18    23\n",
       "19    52\n",
       "20     6\n",
       "21    42\n",
       "22   -17\n",
       "23    37\n",
       "dtype: int64"
      ]
     },
     "execution_count": 81,
     "metadata": {},
     "output_type": "execute_result"
    }
   ],
   "source": [
    "obj"
   ]
  },
  {
   "cell_type": "code",
   "execution_count": 82,
   "id": "2ef04196",
   "metadata": {},
   "outputs": [
    {
     "data": {
      "text/plain": [
       "RangeIndex(start=0, stop=24, step=1)"
      ]
     },
     "execution_count": 82,
     "metadata": {},
     "output_type": "execute_result"
    }
   ],
   "source": [
    "obj.index"
   ]
  },
  {
   "cell_type": "code",
   "execution_count": 84,
   "id": "6655e289",
   "metadata": {},
   "outputs": [
    {
     "data": {
      "text/plain": [
       "0     44\n",
       "1     74\n",
       "2     46\n",
       "3     64\n",
       "4     77\n",
       "5     86\n",
       "6     94\n",
       "7      5\n",
       "8     34\n",
       "9     72\n",
       "10    92\n",
       "11    44\n",
       "12    45\n",
       "13    57\n",
       "14    37\n",
       "15     5\n",
       "16    44\n",
       "17     3\n",
       "18    23\n",
       "19    52\n",
       "20     6\n",
       "21    42\n",
       "22   -17\n",
       "23    37\n",
       "dtype: int64"
      ]
     },
     "execution_count": 84,
     "metadata": {},
     "output_type": "execute_result"
    }
   ],
   "source": [
    "obj"
   ]
  },
  {
   "cell_type": "code",
   "execution_count": 85,
   "id": "7fb0aa91",
   "metadata": {},
   "outputs": [
    {
     "data": {
      "text/plain": [
       "0     44\n",
       "1     74\n",
       "2     46\n",
       "3     64\n",
       "4     77\n",
       "5     86\n",
       "6     94\n",
       "7      5\n",
       "8     34\n",
       "9     72\n",
       "10    92\n",
       "11    44\n",
       "12    45\n",
       "13    57\n",
       "14    37\n",
       "15     5\n",
       "16    44\n",
       "18    23\n",
       "19    52\n",
       "20     6\n",
       "21    42\n",
       "23    37\n",
       "dtype: int64"
      ]
     },
     "execution_count": 85,
     "metadata": {},
     "output_type": "execute_result"
    }
   ],
   "source": [
    "obj[obj>3]"
   ]
  },
  {
   "cell_type": "code",
   "execution_count": 86,
   "id": "2711bea8",
   "metadata": {},
   "outputs": [
    {
     "data": {
      "text/plain": [
       "0      85184\n",
       "1     405224\n",
       "2      97336\n",
       "3     262144\n",
       "4     456533\n",
       "5     636056\n",
       "6     830584\n",
       "7        125\n",
       "8      39304\n",
       "9     373248\n",
       "10    778688\n",
       "11     85184\n",
       "12     91125\n",
       "13    185193\n",
       "14     50653\n",
       "15       125\n",
       "16     85184\n",
       "17        27\n",
       "18     12167\n",
       "19    140608\n",
       "20       216\n",
       "21     74088\n",
       "22     -4913\n",
       "23     50653\n",
       "dtype: int64"
      ]
     },
     "execution_count": 86,
     "metadata": {},
     "output_type": "execute_result"
    }
   ],
   "source": [
    "obj**3"
   ]
  },
  {
   "cell_type": "code",
   "execution_count": 87,
   "id": "99c99ca1",
   "metadata": {},
   "outputs": [
    {
     "data": {
      "text/plain": [
       "0     1.285160e+19\n",
       "1     1.373383e+32\n",
       "2     9.496119e+19\n",
       "3     6.235149e+27\n",
       "4     2.758513e+33\n",
       "5     2.235247e+37\n",
       "6     6.663176e+40\n",
       "7     1.484132e+02\n",
       "8     5.834617e+14\n",
       "9     1.858672e+31\n",
       "10    9.017628e+39\n",
       "11    1.285160e+19\n",
       "12    3.493427e+19\n",
       "13    5.685720e+24\n",
       "14    1.171914e+16\n",
       "15    1.484132e+02\n",
       "16    1.285160e+19\n",
       "17    2.008554e+01\n",
       "18    9.744803e+09\n",
       "19    3.831008e+22\n",
       "20    4.034288e+02\n",
       "21    1.739275e+18\n",
       "22    4.139938e-08\n",
       "23    1.171914e+16\n",
       "dtype: float64"
      ]
     },
     "execution_count": 87,
     "metadata": {},
     "output_type": "execute_result"
    }
   ],
   "source": [
    "a=np.exp(obj)\n",
    "a"
   ]
  },
  {
   "cell_type": "code",
   "execution_count": null,
   "id": "8943d747",
   "metadata": {},
   "outputs": [
    {
     "data": {
      "image/png": "[encoded data removed]",
      "text/plain": [
       "<Figure size 500x500 with 1 Axes>"
      ]
     },
     "metadata": {},
     "output_type": "display_data"
    }
   ],
   "source": [
    "sbn.displot(a)\n",
    "plt.show()"
   ]
  },
  {
   "cell_type": "code",
   "execution_count": 89,
   "id": "4dca70b4",
   "metadata": {},
   "outputs": [
    {
     "data": {
      "text/plain": [
       "{'Ohio': 35000, 'Texas': 71000, 'Oregon': 16000, 'Utah': 5000}"
      ]
     },
     "execution_count": 89,
     "metadata": {},
     "output_type": "execute_result"
    }
   ],
   "source": [
    "sdata = {'Ohio': 35000, 'Texas': 71000, 'Oregon': 16000, 'Utah': 5000}\n",
    "sdata"
   ]
  },
  {
   "cell_type": "code",
   "execution_count": 90,
   "id": "3998ac03",
   "metadata": {},
   "outputs": [],
   "source": [
    "obj=pd.Series(sdata)"
   ]
  },
  {
   "cell_type": "code",
   "execution_count": 91,
   "id": "c56ea6c5",
   "metadata": {},
   "outputs": [
    {
     "data": {
      "text/plain": [
       "Ohio      35000\n",
       "Texas     71000\n",
       "Oregon    16000\n",
       "Utah       5000\n",
       "dtype: int64"
      ]
     },
     "execution_count": 91,
     "metadata": {},
     "output_type": "execute_result"
    }
   ],
   "source": [
    "obj"
   ]
  },
  {
   "cell_type": "code",
   "execution_count": 92,
   "id": "bb7d8751",
   "metadata": {},
   "outputs": [],
   "source": [
    "states = ['California', 'Ohio', 'Oregon', 'Texas']"
   ]
  },
  {
   "cell_type": "code",
   "execution_count": 93,
   "id": "fbd22605",
   "metadata": {},
   "outputs": [],
   "source": [
    "obj4 = pd.Series(sdata, index=states)"
   ]
  },
  {
   "cell_type": "code",
   "execution_count": 95,
   "id": "7f2e7488",
   "metadata": {},
   "outputs": [
    {
     "data": {
      "text/plain": [
       "California        NaN\n",
       "Ohio          35000.0\n",
       "Oregon        16000.0\n",
       "Texas         71000.0\n",
       "dtype: float64"
      ]
     },
     "execution_count": 95,
     "metadata": {},
     "output_type": "execute_result"
    }
   ],
   "source": [
    "obj4"
   ]
  },
  {
   "cell_type": "code",
   "execution_count": 96,
   "id": "00dc1a79",
   "metadata": {},
   "outputs": [
    {
     "data": {
      "text/plain": [
       "California     True\n",
       "Ohio          False\n",
       "Oregon        False\n",
       "Texas         False\n",
       "dtype: bool"
      ]
     },
     "execution_count": 96,
     "metadata": {},
     "output_type": "execute_result"
    }
   ],
   "source": [
    "pd.isnull(obj4)"
   ]
  },
  {
   "cell_type": "code",
   "execution_count": null,
   "id": "bae69adb",
   "metadata": {},
   "outputs": [],
   "source": []
  },
  {
   "cell_type": "code",
   "execution_count": 97,
   "id": "6931ca29",
   "metadata": {},
   "outputs": [
    {
     "data": {
      "text/plain": [
       "California    False\n",
       "Ohio           True\n",
       "Oregon         True\n",
       "Texas          True\n",
       "dtype: bool"
      ]
     },
     "execution_count": 97,
     "metadata": {},
     "output_type": "execute_result"
    }
   ],
   "source": [
    "pd.notnull(obj4)"
   ]
  },
  {
   "cell_type": "code",
   "execution_count": 98,
   "id": "270031a8",
   "metadata": {},
   "outputs": [
    {
     "data": {
      "text/plain": [
       "California     True\n",
       "Ohio          False\n",
       "Oregon        False\n",
       "Texas         False\n",
       "dtype: bool"
      ]
     },
     "execution_count": 98,
     "metadata": {},
     "output_type": "execute_result"
    }
   ],
   "source": [
    "obj4.isnull()"
   ]
  },
  {
   "cell_type": "code",
   "execution_count": null,
   "id": "6ba4979d",
   "metadata": {},
   "outputs": [],
   "source": []
  },
  {
   "cell_type": "code",
   "execution_count": null,
   "id": "3280d224",
   "metadata": {},
   "outputs": [],
   "source": []
  }
 ],
 "metadata": {
  "kernelspec": {
   "display_name": "Python 3",
   "language": "python",
   "name": "python3"
  },
  "language_info": {
   "codemirror_mode": {
    "name": "ipython",
    "version": 3
   },
   "file_extension": ".py",
   "mimetype": "text/x-python",
   "name": "python",
   "nbconvert_exporter": "python",
   "pygments_lexer": "ipython3",
   "version": "3.13.2"
  }
 },
 "nbformat": 4,
 "nbformat_minor": 5
}
